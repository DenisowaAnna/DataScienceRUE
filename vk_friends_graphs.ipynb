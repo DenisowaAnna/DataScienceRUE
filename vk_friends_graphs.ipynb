{
 "cells": [
  {
   "cell_type": "code",
   "execution_count": 3,
   "id": "8dd760d4",
   "metadata": {},
   "outputs": [
    {
     "name": "stdout",
     "output_type": "stream",
     "text": [
      "Requirement already satisfied: vk_api in c:\\users\\yoky\\anaconda3\\lib\\site-packages (11.9.9)\n",
      "Requirement already satisfied: requests in c:\\users\\yoky\\anaconda3\\lib\\site-packages (from vk_api) (2.26.0)\n",
      "Requirement already satisfied: certifi>=2017.4.17 in c:\\users\\yoky\\anaconda3\\lib\\site-packages (from requests->vk_api) (2021.10.8)\n",
      "Requirement already satisfied: idna<4,>=2.5 in c:\\users\\yoky\\anaconda3\\lib\\site-packages (from requests->vk_api) (3.2)\n",
      "Requirement already satisfied: urllib3<1.27,>=1.21.1 in c:\\users\\yoky\\anaconda3\\lib\\site-packages (from requests->vk_api) (1.26.7)\n",
      "Requirement already satisfied: charset-normalizer~=2.0.0 in c:\\users\\yoky\\anaconda3\\lib\\site-packages (from requests->vk_api) (2.0.4)\n",
      "Note: you may need to restart the kernel to use updated packages.\n"
     ]
    }
   ],
   "source": [
    "pip install vk_api"
   ]
  },
  {
   "cell_type": "code",
   "execution_count": 30,
   "id": "e53430fa",
   "metadata": {},
   "outputs": [],
   "source": [
    "import vk_api"
   ]
  },
  {
   "cell_type": "code",
   "execution_count": 45,
   "id": "44560281",
   "metadata": {},
   "outputs": [],
   "source": [
    "vk_session = vk_api.VkApi('***','***')\n",
    "vk_session.auth()\n",
    "vk = vk_session.get_api()"
   ]
  },
  {
   "cell_type": "code",
   "execution_count": 46,
   "id": "7bcad0ff",
   "metadata": {},
   "outputs": [],
   "source": [
    "ds_id_list = {'Денисова Анна Игоревна': 612775359, \n",
    "              'Липин Роман Андреевич': 325969137, \n",
    "              'Беляков Николай Николаевич': 380898246,\n",
    "              'Сучков Артём Дмитриевич': 404306503,\n",
    "              'Беляева Татьяна': 258835769,\n",
    "              'Алферова Ирина Александровна': 166690832,\n",
    "              'Никитин Павел Александрович': 127123318,\n",
    "              'Глухарева Елизавета Семеновна': 474222811,\n",
    "              'Люльчак Павел Игоревич': 284809767,\n",
    "              'Юрлов Даниил Андреевич': 226972714,\n",
    "              'Анисимов Никита Станиславович': 222323979,\n",
    "              'Еременко Анастасия Юрьевна': 481812303,\n",
    "              'Сидоренко Александра Владимировна': 163926270,\n",
    "              'Орешников Даниил Борисович': 339103624,\n",
    "              'Ширинова Рена Афраил кызы': 187132254,\n",
    "              'Бусел Татьяна Васильевна': 161142420,\n",
    "              'Тенькаев Захар Валерьевич': 509082391}"
   ]
  },
  {
   "cell_type": "code",
   "execution_count": 47,
   "id": "31ae51fa",
   "metadata": {},
   "outputs": [],
   "source": [
    "def id_list(vk_id):\n",
    "    if 'deactivated' in vk.users.get(user_id=vk_id)[0]:\n",
    "        return []\n",
    "    else:\n",
    "        if vk.users.get(user_id=vk_id)[0]['is_closed'] == True:\n",
    "            return []\n",
    "        return vk.friends.get(user_id=vk_id)['items']"
   ]
  },
  {
   "cell_type": "code",
   "execution_count": 74,
   "id": "30884c71",
   "metadata": {},
   "outputs": [
    {
     "name": "stderr",
     "output_type": "stream",
     "text": [
      "100%|██████████████████████████████████████████████████████████████████████████████████████████████████████████████████████████████████████| 61/61 [01:08<00:00,  1.12s/it]\n",
      "100%|████████████████████████████████████████████████████████████████████████████████████████████████████████████████████████████████████| 310/310 [05:40<00:00,  1.10s/it]\n",
      "100%|████████████████████████████████████████████████████████████████████████████████████████████████████████████████████████████████████| 111/111 [02:06<00:00,  1.14s/it]\n",
      "0it [00:00, ?it/s]\n",
      "100%|████████████████████████████████████████████████████████████████████████████████████████████████████████████████████████████████████| 260/260 [04:56<00:00,  1.14s/it]\n",
      "100%|████████████████████████████████████████████████████████████████████████████████████████████████████████████████████████████████████| 197/197 [03:28<00:00,  1.06s/it]\n",
      "100%|████████████████████████████████████████████████████████████████████████████████████████████████████████████████████████████████████| 330/330 [06:06<00:00,  1.11s/it]\n",
      "100%|██████████████████████████████████████████████████████████████████████████████████████████████████████████████████████████████████████| 57/57 [01:04<00:00,  1.14s/it]\n",
      "100%|████████████████████████████████████████████████████████████████████████████████████████████████████████████████████████████████████| 207/207 [03:54<00:00,  1.13s/it]\n",
      "100%|████████████████████████████████████████████████████████████████████████████████████████████████████████████████████████████████████| 176/176 [03:24<00:00,  1.16s/it]\n",
      "100%|████████████████████████████████████████████████████████████████████████████████████████████████████████████████████████████████████| 165/165 [02:59<00:00,  1.09s/it]\n",
      "100%|██████████████████████████████████████████████████████████████████████████████████████████████████████████████████████████████████████| 72/72 [01:23<00:00,  1.15s/it]\n",
      "0it [00:00, ?it/s]\n",
      "100%|████████████████████████████████████████████████████████████████████████████████████████████████████████████████████████████████████| 120/120 [02:21<00:00,  1.18s/it]\n",
      "0it [00:00, ?it/s]\n",
      "100%|████████████████████████████████████████████████████████████████████████████████████████████████████████████████████████████████████| 215/215 [04:21<00:00,  1.22s/it]\n",
      "100%|████████████████████████████████████████████████████████████████████████████████████████████████████████████████████████████████████| 108/108 [02:02<00:00,  1.13s/it]IOPub data rate exceeded.\n",
      "The notebook server will temporarily stop sending output\n",
      "to the client in order to avoid crashing it.\n",
      "To change this limit, set the config variable\n",
      "`--NotebookApp.iopub_data_rate_limit`.\n",
      "\n",
      "Current values:\n",
      "NotebookApp.iopub_data_rate_limit=1000000.0 (bytes/sec)\n",
      "NotebookApp.rate_limit_window=3.0 (secs)\n",
      "\n",
      "\n"
     ]
    }
   ],
   "source": [
    "dict_friends = {}\n",
    "for value in ds_id_list.values():\n",
    "    friend_list = id_list(value)\n",
    "    cur_dict = {}\n",
    "    for cur_id in tqdm(friend_list):\n",
    "        cur_dict[cur_id] = id_list(cur_id)\n",
    "    dict_friends[value] = cur_dict\n",
    "print(dict_friends)"
   ]
  },
  {
   "cell_type": "code",
   "execution_count": 75,
   "id": "d09491e5",
   "metadata": {},
   "outputs": [],
   "source": [
    "import tqdm"
   ]
  },
  {
   "cell_type": "code",
   "execution_count": 76,
   "id": "4da68860",
   "metadata": {},
   "outputs": [],
   "source": [
    "from tqdm import tqdm"
   ]
  },
  {
   "cell_type": "code",
   "execution_count": 77,
   "id": "bf62a7dc",
   "metadata": {},
   "outputs": [],
   "source": [
    "import json\n",
    "with open('result.json', 'w') as fp:\n",
    "   json.dump(dict_friends, fp)"
   ]
  },
  {
   "cell_type": "code",
   "execution_count": 78,
   "id": "f8832508",
   "metadata": {},
   "outputs": [],
   "source": [
    "fp = open('result.json')\n",
    "dict_friends = json.load(fp)"
   ]
  },
  {
   "cell_type": "code",
   "execution_count": 79,
   "id": "ba818699",
   "metadata": {},
   "outputs": [],
   "source": [
    "import networkx as nx"
   ]
  },
  {
   "cell_type": "code",
   "execution_count": 80,
   "id": "2021bf5e",
   "metadata": {},
   "outputs": [],
   "source": [
    "G = nx.Graph()"
   ]
  },
  {
   "cell_type": "code",
   "execution_count": 81,
   "id": "a188a899",
   "metadata": {},
   "outputs": [],
   "source": [
    "fr = list(dict_friends.keys())"
   ]
  },
  {
   "cell_type": "code",
   "execution_count": 82,
   "id": "260e3ac7",
   "metadata": {},
   "outputs": [],
   "source": [
    "for values in dict_friends.values():\n",
    "    for j in list(values.keys()):\n",
    "        fr.append(j)"
   ]
  },
  {
   "cell_type": "code",
   "execution_count": 83,
   "id": "bb304a1e",
   "metadata": {},
   "outputs": [],
   "source": [
    "for values in dict_friends.values():\n",
    "    for i in values.values():\n",
    "        for j in i:\n",
    "            fr.append(j)"
   ]
  },
  {
   "cell_type": "code",
   "execution_count": 84,
   "id": "d491ec92",
   "metadata": {},
   "outputs": [],
   "source": [
    "friend_list = list(set(fr))"
   ]
  },
  {
   "cell_type": "code",
   "execution_count": 85,
   "id": "5a7dc667",
   "metadata": {},
   "outputs": [],
   "source": [
    "G.add_nodes_from(friend_list)"
   ]
  },
  {
   "cell_type": "code",
   "execution_count": 86,
   "id": "36abc219",
   "metadata": {},
   "outputs": [],
   "source": [
    "for keys in dict_friends.keys():\n",
    "    for i in dict_friends[keys].keys():    \n",
    "        G.add_edge(*(keys, i))"
   ]
  },
  {
   "cell_type": "code",
   "execution_count": 87,
   "id": "4a77c400",
   "metadata": {},
   "outputs": [],
   "source": [
    "for keys in dict_friends.keys():\n",
    "    for i in dict_friends[keys].keys():    \n",
    "        for j in dict_friends[keys][i]:\n",
    "            G.add_edge(*(i, j))"
   ]
  },
  {
   "cell_type": "code",
   "execution_count": 115,
   "id": "fba93a4e",
   "metadata": {},
   "outputs": [],
   "source": [
    "def central_friend(ct, idlist):\n",
    "    ct_friends = []\n",
    "    for key, value in idlist.items():\n",
    "        ct_friends.append((key, ct[value]))\n",
    "    return sorted(ct_friends, key=lambda ct_friends: ct_friends[1])[-1]"
   ]
  },
  {
   "cell_type": "code",
   "execution_count": 116,
   "id": "fea5f88f",
   "metadata": {},
   "outputs": [
    {
     "data": {
      "text/plain": [
       "('Липин Роман Андреевич', 0.0005353079252450322)"
      ]
     },
     "execution_count": 116,
     "metadata": {},
     "output_type": "execute_result"
    }
   ],
   "source": [
    "dct = nx.degree_centrality(G)\n",
    "central_friend(dct, ds_id_list)"
   ]
  },
  {
   "cell_type": "code",
   "execution_count": 117,
   "id": "1f554709",
   "metadata": {},
   "outputs": [
    {
     "data": {
      "text/plain": [
       "('Беляева Татьяна', 0.03644144295000825)"
      ]
     },
     "execution_count": 117,
     "metadata": {},
     "output_type": "execute_result"
    }
   ],
   "source": [
    "ect = nx.eigenvector_centrality(G, max_iter=600, tol=1e-06, nstart=None, weight=None)\n",
    "central_friend(ect, ds_id_list)"
   ]
  },
  {
   "cell_type": "code",
   "execution_count": 118,
   "id": "e5f7bd23",
   "metadata": {},
   "outputs": [
    {
     "ename": "KeyboardInterrupt",
     "evalue": "",
     "output_type": "error",
     "traceback": [
      "\u001b[1;31m---------------------------------------------------------------------------\u001b[0m",
      "\u001b[1;31mKeyboardInterrupt\u001b[0m                         Traceback (most recent call last)",
      "\u001b[1;32m~\\AppData\\Local\\Temp/ipykernel_2284/2363380094.py\u001b[0m in \u001b[0;36m<module>\u001b[1;34m\u001b[0m\n\u001b[1;32m----> 1\u001b[1;33m \u001b[0mcct\u001b[0m \u001b[1;33m=\u001b[0m \u001b[0mnx\u001b[0m\u001b[1;33m.\u001b[0m\u001b[0mcloseness_centrality\u001b[0m\u001b[1;33m(\u001b[0m\u001b[0mG\u001b[0m\u001b[1;33m,\u001b[0m \u001b[0mu\u001b[0m\u001b[1;33m=\u001b[0m\u001b[1;32mNone\u001b[0m\u001b[1;33m,\u001b[0m \u001b[0mdistance\u001b[0m\u001b[1;33m=\u001b[0m\u001b[1;32mNone\u001b[0m\u001b[1;33m,\u001b[0m \u001b[0mwf_improved\u001b[0m\u001b[1;33m=\u001b[0m\u001b[1;32mTrue\u001b[0m\u001b[1;33m)\u001b[0m\u001b[1;33m\u001b[0m\u001b[1;33m\u001b[0m\u001b[0m\n\u001b[0m\u001b[0;32m      2\u001b[0m \u001b[0mcentral_friend\u001b[0m\u001b[1;33m(\u001b[0m\u001b[0mcct\u001b[0m\u001b[1;33m,\u001b[0m \u001b[0mds_id_list\u001b[0m\u001b[1;33m)\u001b[0m\u001b[1;33m\u001b[0m\u001b[1;33m\u001b[0m\u001b[0m\n",
      "\u001b[1;32m~\\anaconda3\\lib\\site-packages\\networkx\\algorithms\\centrality\\closeness.py\u001b[0m in \u001b[0;36mcloseness_centrality\u001b[1;34m(G, u, distance, wf_improved)\u001b[0m\n\u001b[0;32m    111\u001b[0m     \u001b[0mcloseness_centrality\u001b[0m \u001b[1;33m=\u001b[0m \u001b[1;33m{\u001b[0m\u001b[1;33m}\u001b[0m\u001b[1;33m\u001b[0m\u001b[1;33m\u001b[0m\u001b[0m\n\u001b[0;32m    112\u001b[0m     \u001b[1;32mfor\u001b[0m \u001b[0mn\u001b[0m \u001b[1;32min\u001b[0m \u001b[0mnodes\u001b[0m\u001b[1;33m:\u001b[0m\u001b[1;33m\u001b[0m\u001b[1;33m\u001b[0m\u001b[0m\n\u001b[1;32m--> 113\u001b[1;33m         \u001b[0msp\u001b[0m \u001b[1;33m=\u001b[0m \u001b[0mpath_length\u001b[0m\u001b[1;33m(\u001b[0m\u001b[0mG\u001b[0m\u001b[1;33m,\u001b[0m \u001b[0mn\u001b[0m\u001b[1;33m)\u001b[0m\u001b[1;33m\u001b[0m\u001b[1;33m\u001b[0m\u001b[0m\n\u001b[0m\u001b[0;32m    114\u001b[0m         \u001b[0mtotsp\u001b[0m \u001b[1;33m=\u001b[0m \u001b[0msum\u001b[0m\u001b[1;33m(\u001b[0m\u001b[0msp\u001b[0m\u001b[1;33m.\u001b[0m\u001b[0mvalues\u001b[0m\u001b[1;33m(\u001b[0m\u001b[1;33m)\u001b[0m\u001b[1;33m)\u001b[0m\u001b[1;33m\u001b[0m\u001b[1;33m\u001b[0m\u001b[0m\n\u001b[0;32m    115\u001b[0m         \u001b[0mlen_G\u001b[0m \u001b[1;33m=\u001b[0m \u001b[0mlen\u001b[0m\u001b[1;33m(\u001b[0m\u001b[0mG\u001b[0m\u001b[1;33m)\u001b[0m\u001b[1;33m\u001b[0m\u001b[1;33m\u001b[0m\u001b[0m\n",
      "\u001b[1;32m~\\anaconda3\\lib\\site-packages\\networkx\\algorithms\\shortest_paths\\unweighted.py\u001b[0m in \u001b[0;36msingle_source_shortest_path_length\u001b[1;34m(G, source, cutoff)\u001b[0m\n\u001b[0;32m     57\u001b[0m         \u001b[0mcutoff\u001b[0m \u001b[1;33m=\u001b[0m \u001b[0mfloat\u001b[0m\u001b[1;33m(\u001b[0m\u001b[1;34m\"inf\"\u001b[0m\u001b[1;33m)\u001b[0m\u001b[1;33m\u001b[0m\u001b[1;33m\u001b[0m\u001b[0m\n\u001b[0;32m     58\u001b[0m     \u001b[0mnextlevel\u001b[0m \u001b[1;33m=\u001b[0m \u001b[1;33m{\u001b[0m\u001b[0msource\u001b[0m\u001b[1;33m:\u001b[0m \u001b[1;36m1\u001b[0m\u001b[1;33m}\u001b[0m\u001b[1;33m\u001b[0m\u001b[1;33m\u001b[0m\u001b[0m\n\u001b[1;32m---> 59\u001b[1;33m     \u001b[1;32mreturn\u001b[0m \u001b[0mdict\u001b[0m\u001b[1;33m(\u001b[0m\u001b[0m_single_shortest_path_length\u001b[0m\u001b[1;33m(\u001b[0m\u001b[0mG\u001b[0m\u001b[1;33m.\u001b[0m\u001b[0madj\u001b[0m\u001b[1;33m,\u001b[0m \u001b[0mnextlevel\u001b[0m\u001b[1;33m,\u001b[0m \u001b[0mcutoff\u001b[0m\u001b[1;33m)\u001b[0m\u001b[1;33m)\u001b[0m\u001b[1;33m\u001b[0m\u001b[1;33m\u001b[0m\u001b[0m\n\u001b[0m\u001b[0;32m     60\u001b[0m \u001b[1;33m\u001b[0m\u001b[0m\n\u001b[0;32m     61\u001b[0m \u001b[1;33m\u001b[0m\u001b[0m\n",
      "\u001b[1;32m~\\anaconda3\\lib\\site-packages\\networkx\\algorithms\\shortest_paths\\unweighted.py\u001b[0m in \u001b[0;36m_single_shortest_path_length\u001b[1;34m(adj, firstlevel, cutoff)\u001b[0m\n\u001b[0;32m     84\u001b[0m             \u001b[1;32mif\u001b[0m \u001b[0mv\u001b[0m \u001b[1;32mnot\u001b[0m \u001b[1;32min\u001b[0m \u001b[0mseen\u001b[0m\u001b[1;33m:\u001b[0m\u001b[1;33m\u001b[0m\u001b[1;33m\u001b[0m\u001b[0m\n\u001b[0;32m     85\u001b[0m                 \u001b[0mseen\u001b[0m\u001b[1;33m[\u001b[0m\u001b[0mv\u001b[0m\u001b[1;33m]\u001b[0m \u001b[1;33m=\u001b[0m \u001b[0mlevel\u001b[0m  \u001b[1;31m# set the level of vertex v\u001b[0m\u001b[1;33m\u001b[0m\u001b[1;33m\u001b[0m\u001b[0m\n\u001b[1;32m---> 86\u001b[1;33m                 \u001b[0mfound\u001b[0m\u001b[1;33m.\u001b[0m\u001b[0mappend\u001b[0m\u001b[1;33m(\u001b[0m\u001b[0mv\u001b[0m\u001b[1;33m)\u001b[0m\u001b[1;33m\u001b[0m\u001b[1;33m\u001b[0m\u001b[0m\n\u001b[0m\u001b[0;32m     87\u001b[0m                 \u001b[1;32myield\u001b[0m \u001b[1;33m(\u001b[0m\u001b[0mv\u001b[0m\u001b[1;33m,\u001b[0m \u001b[0mlevel\u001b[0m\u001b[1;33m)\u001b[0m\u001b[1;33m\u001b[0m\u001b[1;33m\u001b[0m\u001b[0m\n\u001b[0;32m     88\u001b[0m         \u001b[1;32mif\u001b[0m \u001b[0mlen\u001b[0m\u001b[1;33m(\u001b[0m\u001b[0mseen\u001b[0m\u001b[1;33m)\u001b[0m \u001b[1;33m==\u001b[0m \u001b[0mn\u001b[0m\u001b[1;33m:\u001b[0m\u001b[1;33m\u001b[0m\u001b[1;33m\u001b[0m\u001b[0m\n",
      "\u001b[1;31mKeyboardInterrupt\u001b[0m: "
     ]
    }
   ],
   "source": [
    "cct = nx.closeness_centrality(G, u=None, distance=None, wf_improved=True)\n",
    "central_friend(cct, ds_id_list)"
   ]
  }
 ],
 "metadata": {
  "kernelspec": {
   "display_name": "Python 3 (ipykernel)",
   "language": "python",
   "name": "python3"
  },
  "language_info": {
   "codemirror_mode": {
    "name": "ipython",
    "version": 3
   },
   "file_extension": ".py",
   "mimetype": "text/x-python",
   "name": "python",
   "nbconvert_exporter": "python",
   "pygments_lexer": "ipython3",
   "version": "3.9.7"
  }
 },
 "nbformat": 4,
 "nbformat_minor": 5
}
